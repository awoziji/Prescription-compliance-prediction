{
 "cells": [
  {
   "cell_type": "markdown",
   "metadata": {},
   "source": [
    "# Medication Compliance of Patients"
   ]
  },
  {
   "cell_type": "markdown",
   "metadata": {},
   "source": [
    "### Prediction of patients who are likely to miss their medications using Patient information (Age, Gender) , medication prescription period, major disease indicators (Diabetes,TB, Alcoholism etc.)"
   ]
  },
  {
   "cell_type": "markdown",
   "metadata": {},
   "source": [
    "## Importing important libraries"
   ]
  },
  {
   "cell_type": "code",
   "execution_count": 2,
   "metadata": {},
   "outputs": [
    {
     "name": "stderr",
     "output_type": "stream",
     "text": [
      "C:\\ProgramData\\Anaconda3\\lib\\site-packages\\matplotlib\\__init__.py:913: UserWarning: axes.color_cycle is deprecated and replaced with axes.prop_cycle; please use the latter.\n",
      "  warnings.warn(self.msg_depr % (key, alt_key))\n"
     ]
    }
   ],
   "source": [
    "import pandas as pd\n",
    "import numpy as np\n",
    "import csv\n",
    "from sklearn import preprocessing\n",
    "import matplotlib.pyplot as plt \n",
    "plt.rc(\"font\", size=14)\n",
    "%matplotlib inline\n",
    "from sklearn.linear_model import LogisticRegression\n",
    "import seaborn as sns\n",
    "from sklearn.preprocessing import Imputer\n",
    "imputer = Imputer()\n",
    "from sklearn.preprocessing import LabelEncoder, StandardScaler\n",
    "from sklearn.pipeline import Pipeline\n",
    "from sklearn.model_selection import train_test_split\n",
    "from sklearn.metrics import accuracy_score\n",
    "from sklearn.model_selection import cross_validate\n",
    "from sklearn.svm import SVC\n",
    "import sklearn as sklearn\n",
    "from sklearn.linear_model import LogisticRegression\n",
    "from sklearn.neighbors import KNeighborsClassifier\n",
    "from sklearn.tree import DecisionTreeClassifier\n",
    "from sklearn.ensemble import RandomForestClassifier, GradientBoostingClassifier\n",
    "\n",
    "import warnings\n",
    "warnings.filterwarnings(\"ignore\")"
   ]
  },
  {
   "cell_type": "markdown",
   "metadata": {},
   "source": [
    "## Exploratory Data Analysis\n",
    "### Loading data into a Pandas dataframe"
   ]
  },
  {
   "cell_type": "code",
   "execution_count": 3,
   "metadata": {},
   "outputs": [
    {
     "data": {
      "text/html": [
       "<div>\n",
       "<style>\n",
       "    .dataframe thead tr:only-child th {\n",
       "        text-align: right;\n",
       "    }\n",
       "\n",
       "    .dataframe thead th {\n",
       "        text-align: left;\n",
       "    }\n",
       "\n",
       "    .dataframe tbody tr th {\n",
       "        vertical-align: top;\n",
       "    }\n",
       "</style>\n",
       "<table border=\"1\" class=\"dataframe\">\n",
       "  <thead>\n",
       "    <tr style=\"text-align: right;\">\n",
       "      <th></th>\n",
       "      <th>patient_id</th>\n",
       "      <th>Age</th>\n",
       "      <th>Gender</th>\n",
       "      <th>Prescription_period</th>\n",
       "      <th>Diabetes</th>\n",
       "      <th>Alcoholism</th>\n",
       "      <th>HyperTension</th>\n",
       "      <th>Smokes</th>\n",
       "      <th>Tuberculosis</th>\n",
       "      <th>Sms_Reminder</th>\n",
       "      <th>Adherence</th>\n",
       "    </tr>\n",
       "  </thead>\n",
       "  <tbody>\n",
       "    <tr>\n",
       "      <th>0</th>\n",
       "      <td>1</td>\n",
       "      <td>19</td>\n",
       "      <td>M</td>\n",
       "      <td>7</td>\n",
       "      <td>0</td>\n",
       "      <td>0</td>\n",
       "      <td>0</td>\n",
       "      <td>0</td>\n",
       "      <td>0</td>\n",
       "      <td>0</td>\n",
       "      <td>No</td>\n",
       "    </tr>\n",
       "    <tr>\n",
       "      <th>1</th>\n",
       "      <td>2</td>\n",
       "      <td>24</td>\n",
       "      <td>F</td>\n",
       "      <td>59</td>\n",
       "      <td>0</td>\n",
       "      <td>0</td>\n",
       "      <td>0</td>\n",
       "      <td>0</td>\n",
       "      <td>0</td>\n",
       "      <td>0</td>\n",
       "      <td>No</td>\n",
       "    </tr>\n",
       "    <tr>\n",
       "      <th>2</th>\n",
       "      <td>3</td>\n",
       "      <td>4</td>\n",
       "      <td>F</td>\n",
       "      <td>43</td>\n",
       "      <td>0</td>\n",
       "      <td>0</td>\n",
       "      <td>0</td>\n",
       "      <td>0</td>\n",
       "      <td>0</td>\n",
       "      <td>0</td>\n",
       "      <td>No</td>\n",
       "    </tr>\n",
       "    <tr>\n",
       "      <th>3</th>\n",
       "      <td>4</td>\n",
       "      <td>38</td>\n",
       "      <td>M</td>\n",
       "      <td>66</td>\n",
       "      <td>0</td>\n",
       "      <td>0</td>\n",
       "      <td>0</td>\n",
       "      <td>0</td>\n",
       "      <td>0</td>\n",
       "      <td>1</td>\n",
       "      <td>No</td>\n",
       "    </tr>\n",
       "    <tr>\n",
       "      <th>4</th>\n",
       "      <td>5</td>\n",
       "      <td>46</td>\n",
       "      <td>F</td>\n",
       "      <td>98</td>\n",
       "      <td>0</td>\n",
       "      <td>0</td>\n",
       "      <td>0</td>\n",
       "      <td>0</td>\n",
       "      <td>0</td>\n",
       "      <td>1</td>\n",
       "      <td>No</td>\n",
       "    </tr>\n",
       "  </tbody>\n",
       "</table>\n",
       "</div>"
      ],
      "text/plain": [
       "   patient_id  Age Gender  Prescription_period  Diabetes  Alcoholism  \\\n",
       "0           1   19      M                    7         0           0   \n",
       "1           2   24      F                   59         0           0   \n",
       "2           3    4      F                   43         0           0   \n",
       "3           4   38      M                   66         0           0   \n",
       "4           5   46      F                   98         0           0   \n",
       "\n",
       "   HyperTension  Smokes  Tuberculosis  Sms_Reminder Adherence  \n",
       "0             0       0             0             0        No  \n",
       "1             0       0             0             0        No  \n",
       "2             0       0             0             0        No  \n",
       "3             0       0             0             1        No  \n",
       "4             0       0             0             1        No  "
      ]
     },
     "execution_count": 3,
     "metadata": {},
     "output_type": "execute_result"
    }
   ],
   "source": [
    "df=pd.read_csv('C:/Abzooba/Training Data.csv')\n",
    "\n",
    "df.head(5)"
   ]
  },
  {
   "cell_type": "markdown",
   "metadata": {},
   "source": [
    "### No missing Data found (as seen below) but you need to transform features to make them meaningful. Gender and Adherence features have the type of object "
   ]
  },
  {
   "cell_type": "code",
   "execution_count": 4,
   "metadata": {},
   "outputs": [
    {
     "name": "stdout",
     "output_type": "stream",
     "text": [
      "Rows and columns in dataframe :  (180212, 11)\n",
      "\n",
      "\n",
      "Information about columns and missingness of data : \n",
      "\n",
      "<class 'pandas.core.frame.DataFrame'>\n",
      "RangeIndex: 180212 entries, 0 to 180211\n",
      "Data columns (total 11 columns):\n",
      "patient_id             180212 non-null int64\n",
      "Age                    180212 non-null int64\n",
      "Gender                 180212 non-null object\n",
      "Prescription_period    180212 non-null int64\n",
      "Diabetes               180212 non-null int64\n",
      "Alcoholism             180212 non-null int64\n",
      "HyperTension           180212 non-null int64\n",
      "Smokes                 180212 non-null int64\n",
      "Tuberculosis           180212 non-null int64\n",
      "Sms_Reminder           180212 non-null int64\n",
      "Adherence              180212 non-null object\n",
      "dtypes: int64(9), object(2)\n",
      "memory usage: 15.1+ MB\n",
      "None\n"
     ]
    }
   ],
   "source": [
    "print('Rows and columns in dataframe : ',df.shape)\n",
    "\n",
    "print('\\n\\nInformation about columns and missingness of data : \\n')\n",
    "print(df.info())"
   ]
  },
  {
   "cell_type": "code",
   "execution_count": 5,
   "metadata": {
    "collapsed": true
   },
   "outputs": [],
   "source": [
    "df['Adherence'].replace(to_replace = ['No','Yes'], value = [0,1], inplace = True)\n",
    "\n",
    "# Another way to change columns in the dataframe\n",
    "#df['Adherence']= df['Adherence'].astype('category')\n",
    "#df['Adherence'] = df['Adherence'].cat.codes"
   ]
  },
  {
   "cell_type": "code",
   "execution_count": 6,
   "metadata": {
    "collapsed": true
   },
   "outputs": [],
   "source": [
    "df['Gender'].replace(to_replace = ['M','F'], value = [1,0], inplace = True)"
   ]
  },
  {
   "cell_type": "code",
   "execution_count": 7,
   "metadata": {},
   "outputs": [
    {
     "data": {
      "text/plain": [
       "Index(['patient_id', 'Age', 'Gender_M', 'Prescription_period', 'Diabetes',\n",
       "       'Alcoholism', 'HyperTension', 'Smokes', 'Tuberculosis', 'Sms_Reminder',\n",
       "       'Adherence'],\n",
       "      dtype='object')"
      ]
     },
     "execution_count": 7,
     "metadata": {},
     "output_type": "execute_result"
    }
   ],
   "source": [
    "# Renaming gender column to keep track of the transformation\n",
    "df.rename(columns = {'Gender' : 'Gender_M'}, inplace = True)\n",
    "df.columns"
   ]
  },
  {
   "cell_type": "code",
   "execution_count": 8,
   "metadata": {},
   "outputs": [
    {
     "name": "stdout",
     "output_type": "stream",
     "text": [
      "<class 'pandas.core.frame.DataFrame'>\n",
      "RangeIndex: 180212 entries, 0 to 180211\n",
      "Data columns (total 11 columns):\n",
      "patient_id             180212 non-null int64\n",
      "Age                    180212 non-null int64\n",
      "Gender_M               180212 non-null int64\n",
      "Prescription_period    180212 non-null int64\n",
      "Diabetes               180212 non-null int64\n",
      "Alcoholism             180212 non-null int64\n",
      "HyperTension           180212 non-null int64\n",
      "Smokes                 180212 non-null int64\n",
      "Tuberculosis           180212 non-null int64\n",
      "Sms_Reminder           180212 non-null int64\n",
      "Adherence              180212 non-null int64\n",
      "dtypes: int64(11)\n",
      "memory usage: 15.1 MB\n",
      "None\n"
     ]
    }
   ],
   "source": [
    "print(df.info())"
   ]
  },
  {
   "cell_type": "code",
   "execution_count": 9,
   "metadata": {},
   "outputs": [
    {
     "data": {
      "text/html": [
       "<div>\n",
       "<style>\n",
       "    .dataframe thead tr:only-child th {\n",
       "        text-align: right;\n",
       "    }\n",
       "\n",
       "    .dataframe thead th {\n",
       "        text-align: left;\n",
       "    }\n",
       "\n",
       "    .dataframe tbody tr th {\n",
       "        vertical-align: top;\n",
       "    }\n",
       "</style>\n",
       "<table border=\"1\" class=\"dataframe\">\n",
       "  <thead>\n",
       "    <tr style=\"text-align: right;\">\n",
       "      <th></th>\n",
       "      <th>patient_id</th>\n",
       "      <th>Age</th>\n",
       "      <th>Gender_M</th>\n",
       "      <th>Prescription_period</th>\n",
       "      <th>Diabetes</th>\n",
       "      <th>Alcoholism</th>\n",
       "      <th>HyperTension</th>\n",
       "      <th>Smokes</th>\n",
       "      <th>Tuberculosis</th>\n",
       "      <th>Sms_Reminder</th>\n",
       "      <th>Adherence</th>\n",
       "    </tr>\n",
       "  </thead>\n",
       "  <tbody>\n",
       "    <tr>\n",
       "      <th>180207</th>\n",
       "      <td>180208</td>\n",
       "      <td>17</td>\n",
       "      <td>1</td>\n",
       "      <td>84</td>\n",
       "      <td>0</td>\n",
       "      <td>0</td>\n",
       "      <td>0</td>\n",
       "      <td>0</td>\n",
       "      <td>0</td>\n",
       "      <td>0</td>\n",
       "      <td>0</td>\n",
       "    </tr>\n",
       "    <tr>\n",
       "      <th>180208</th>\n",
       "      <td>180209</td>\n",
       "      <td>41</td>\n",
       "      <td>1</td>\n",
       "      <td>88</td>\n",
       "      <td>0</td>\n",
       "      <td>0</td>\n",
       "      <td>1</td>\n",
       "      <td>0</td>\n",
       "      <td>0</td>\n",
       "      <td>1</td>\n",
       "      <td>0</td>\n",
       "    </tr>\n",
       "    <tr>\n",
       "      <th>180209</th>\n",
       "      <td>180210</td>\n",
       "      <td>48</td>\n",
       "      <td>0</td>\n",
       "      <td>22</td>\n",
       "      <td>0</td>\n",
       "      <td>0</td>\n",
       "      <td>0</td>\n",
       "      <td>0</td>\n",
       "      <td>0</td>\n",
       "      <td>0</td>\n",
       "      <td>1</td>\n",
       "    </tr>\n",
       "    <tr>\n",
       "      <th>180210</th>\n",
       "      <td>180211</td>\n",
       "      <td>5</td>\n",
       "      <td>1</td>\n",
       "      <td>104</td>\n",
       "      <td>0</td>\n",
       "      <td>0</td>\n",
       "      <td>0</td>\n",
       "      <td>0</td>\n",
       "      <td>0</td>\n",
       "      <td>0</td>\n",
       "      <td>0</td>\n",
       "    </tr>\n",
       "    <tr>\n",
       "      <th>180211</th>\n",
       "      <td>180212</td>\n",
       "      <td>0</td>\n",
       "      <td>1</td>\n",
       "      <td>96</td>\n",
       "      <td>0</td>\n",
       "      <td>0</td>\n",
       "      <td>0</td>\n",
       "      <td>0</td>\n",
       "      <td>0</td>\n",
       "      <td>1</td>\n",
       "      <td>0</td>\n",
       "    </tr>\n",
       "  </tbody>\n",
       "</table>\n",
       "</div>"
      ],
      "text/plain": [
       "        patient_id  Age  Gender_M  Prescription_period  Diabetes  Alcoholism  \\\n",
       "180207      180208   17         1                   84         0           0   \n",
       "180208      180209   41         1                   88         0           0   \n",
       "180209      180210   48         0                   22         0           0   \n",
       "180210      180211    5         1                  104         0           0   \n",
       "180211      180212    0         1                   96         0           0   \n",
       "\n",
       "        HyperTension  Smokes  Tuberculosis  Sms_Reminder  Adherence  \n",
       "180207             0       0             0             0          0  \n",
       "180208             1       0             0             1          0  \n",
       "180209             0       0             0             0          1  \n",
       "180210             0       0             0             0          0  \n",
       "180211             0       0             0             1          0  "
      ]
     },
     "execution_count": 9,
     "metadata": {},
     "output_type": "execute_result"
    }
   ],
   "source": [
    "df.tail(5)"
   ]
  },
  {
   "cell_type": "markdown",
   "metadata": {},
   "source": [
    "### Transformation looks good.\n",
    "### Now we need to drop patient_id as it is of no meaningful value"
   ]
  },
  {
   "cell_type": "code",
   "execution_count": 10,
   "metadata": {
    "collapsed": true
   },
   "outputs": [],
   "source": [
    "df.drop(['patient_id'] , axis = 1, inplace = True)"
   ]
  },
  {
   "cell_type": "code",
   "execution_count": 11,
   "metadata": {},
   "outputs": [
    {
     "data": {
      "text/html": [
       "<div>\n",
       "<style>\n",
       "    .dataframe thead tr:only-child th {\n",
       "        text-align: right;\n",
       "    }\n",
       "\n",
       "    .dataframe thead th {\n",
       "        text-align: left;\n",
       "    }\n",
       "\n",
       "    .dataframe tbody tr th {\n",
       "        vertical-align: top;\n",
       "    }\n",
       "</style>\n",
       "<table border=\"1\" class=\"dataframe\">\n",
       "  <thead>\n",
       "    <tr style=\"text-align: right;\">\n",
       "      <th></th>\n",
       "      <th>Age</th>\n",
       "      <th>Gender_M</th>\n",
       "      <th>Prescription_period</th>\n",
       "      <th>Diabetes</th>\n",
       "      <th>Alcoholism</th>\n",
       "      <th>HyperTension</th>\n",
       "      <th>Smokes</th>\n",
       "      <th>Tuberculosis</th>\n",
       "      <th>Sms_Reminder</th>\n",
       "      <th>Adherence</th>\n",
       "    </tr>\n",
       "  </thead>\n",
       "  <tbody>\n",
       "    <tr>\n",
       "      <th>0</th>\n",
       "      <td>19</td>\n",
       "      <td>1</td>\n",
       "      <td>7</td>\n",
       "      <td>0</td>\n",
       "      <td>0</td>\n",
       "      <td>0</td>\n",
       "      <td>0</td>\n",
       "      <td>0</td>\n",
       "      <td>0</td>\n",
       "      <td>0</td>\n",
       "    </tr>\n",
       "    <tr>\n",
       "      <th>1</th>\n",
       "      <td>24</td>\n",
       "      <td>0</td>\n",
       "      <td>59</td>\n",
       "      <td>0</td>\n",
       "      <td>0</td>\n",
       "      <td>0</td>\n",
       "      <td>0</td>\n",
       "      <td>0</td>\n",
       "      <td>0</td>\n",
       "      <td>0</td>\n",
       "    </tr>\n",
       "    <tr>\n",
       "      <th>2</th>\n",
       "      <td>4</td>\n",
       "      <td>0</td>\n",
       "      <td>43</td>\n",
       "      <td>0</td>\n",
       "      <td>0</td>\n",
       "      <td>0</td>\n",
       "      <td>0</td>\n",
       "      <td>0</td>\n",
       "      <td>0</td>\n",
       "      <td>0</td>\n",
       "    </tr>\n",
       "    <tr>\n",
       "      <th>3</th>\n",
       "      <td>38</td>\n",
       "      <td>1</td>\n",
       "      <td>66</td>\n",
       "      <td>0</td>\n",
       "      <td>0</td>\n",
       "      <td>0</td>\n",
       "      <td>0</td>\n",
       "      <td>0</td>\n",
       "      <td>1</td>\n",
       "      <td>0</td>\n",
       "    </tr>\n",
       "    <tr>\n",
       "      <th>4</th>\n",
       "      <td>46</td>\n",
       "      <td>0</td>\n",
       "      <td>98</td>\n",
       "      <td>0</td>\n",
       "      <td>0</td>\n",
       "      <td>0</td>\n",
       "      <td>0</td>\n",
       "      <td>0</td>\n",
       "      <td>1</td>\n",
       "      <td>0</td>\n",
       "    </tr>\n",
       "  </tbody>\n",
       "</table>\n",
       "</div>"
      ],
      "text/plain": [
       "   Age  Gender_M  Prescription_period  Diabetes  Alcoholism  HyperTension  \\\n",
       "0   19         1                    7         0           0             0   \n",
       "1   24         0                   59         0           0             0   \n",
       "2    4         0                   43         0           0             0   \n",
       "3   38         1                   66         0           0             0   \n",
       "4   46         0                   98         0           0             0   \n",
       "\n",
       "   Smokes  Tuberculosis  Sms_Reminder  Adherence  \n",
       "0       0             0             0          0  \n",
       "1       0             0             0          0  \n",
       "2       0             0             0          0  \n",
       "3       0             0             1          0  \n",
       "4       0             0             1          0  "
      ]
     },
     "execution_count": 11,
     "metadata": {},
     "output_type": "execute_result"
    }
   ],
   "source": [
    "df.head(5)"
   ]
  },
  {
   "cell_type": "markdown",
   "metadata": {},
   "source": [
    "## Exploratory analysis to see if any features show a trend for Adherence (target variable)"
   ]
  },
  {
   "cell_type": "code",
   "execution_count": 42,
   "metadata": {},
   "outputs": [
    {
     "data": {
      "text/plain": [
       "<seaborn.axisgrid.FacetGrid at 0x1b82f78bfd0>"
      ]
     },
     "execution_count": 42,
     "metadata": {},
     "output_type": "execute_result"
    },
    {
     "data": {
      "image/png": "[encoded data removed]",
      "text/plain": [
       "<matplotlib.figure.Figure at 0x1b82ebe7dd8>"
      ]
     },
     "metadata": {},
     "output_type": "display_data"
    }
   ],
   "source": [
    "sns.lmplot(y=\"Adherence\", x = 'Age',data=df)\n",
    "# We see a slight trend of more non Adherence when the age of patient is older but this could be due to other features \n",
    "# (due to correlation)"
   ]
  },
  {
   "cell_type": "code",
   "execution_count": 50,
   "metadata": {},
   "outputs": [
    {
     "name": "stdout",
     "output_type": "stream",
     "text": [
      "6167\n"
     ]
    },
    {
     "data": {
      "image/png": "[encoded data removed]",
      "text/plain": [
       "<matplotlib.figure.Figure at 0x1b836606128>"
      ]
     },
     "metadata": {},
     "output_type": "display_data"
    }
   ],
   "source": [
    "sns.distplot(df[\"Age\"])\n",
    "print((df['Age'] == 0).sum())\n",
    "# 6167 records with missing age OR medications for new born children?"
   ]
  },
  {
   "cell_type": "code",
   "execution_count": 62,
   "metadata": {},
   "outputs": [
    {
     "data": {
      "text/html": [
       "<div>\n",
       "<style>\n",
       "    .dataframe thead tr:only-child th {\n",
       "        text-align: right;\n",
       "    }\n",
       "\n",
       "    .dataframe thead th {\n",
       "        text-align: left;\n",
       "    }\n",
       "\n",
       "    .dataframe tbody tr th {\n",
       "        vertical-align: top;\n",
       "    }\n",
       "</style>\n",
       "<table border=\"1\" class=\"dataframe\">\n",
       "  <thead>\n",
       "    <tr style=\"text-align: right;\">\n",
       "      <th></th>\n",
       "      <th>Age</th>\n",
       "      <th>Gender_M</th>\n",
       "      <th>Prescription_period</th>\n",
       "      <th>Diabetes</th>\n",
       "      <th>Alcoholism</th>\n",
       "      <th>HyperTension</th>\n",
       "      <th>Smokes</th>\n",
       "      <th>Sms_Reminder</th>\n",
       "      <th>Adherence</th>\n",
       "    </tr>\n",
       "    <tr>\n",
       "      <th>Tuberculosis</th>\n",
       "      <th></th>\n",
       "      <th></th>\n",
       "      <th></th>\n",
       "      <th></th>\n",
       "      <th></th>\n",
       "      <th></th>\n",
       "      <th></th>\n",
       "      <th></th>\n",
       "      <th></th>\n",
       "    </tr>\n",
       "  </thead>\n",
       "  <tbody>\n",
       "    <tr>\n",
       "      <th>0</th>\n",
       "      <td>0</td>\n",
       "      <td>3122</td>\n",
       "      <td>342878</td>\n",
       "      <td>0</td>\n",
       "      <td>0</td>\n",
       "      <td>0</td>\n",
       "      <td>0</td>\n",
       "      <td>3349</td>\n",
       "      <td>1763</td>\n",
       "    </tr>\n",
       "    <tr>\n",
       "      <th>1</th>\n",
       "      <td>0</td>\n",
       "      <td>0</td>\n",
       "      <td>28</td>\n",
       "      <td>0</td>\n",
       "      <td>0</td>\n",
       "      <td>0</td>\n",
       "      <td>0</td>\n",
       "      <td>0</td>\n",
       "      <td>2</td>\n",
       "    </tr>\n",
       "  </tbody>\n",
       "</table>\n",
       "</div>"
      ],
      "text/plain": [
       "              Age  Gender_M  Prescription_period  Diabetes  Alcoholism  \\\n",
       "Tuberculosis                                                             \n",
       "0               0      3122               342878         0           0   \n",
       "1               0         0                   28         0           0   \n",
       "\n",
       "              HyperTension  Smokes  Sms_Reminder  Adherence  \n",
       "Tuberculosis                                                 \n",
       "0                        0       0          3349       1763  \n",
       "1                        0       0             0          2  "
      ]
     },
     "execution_count": 62,
     "metadata": {},
     "output_type": "execute_result"
    }
   ],
   "source": [
    "# Investigated to see if infants are marked as alcoholics, smokers etc.\n",
    "df[df['Age']==0].groupby(['Tuberculosis']).aggregate('sum')"
   ]
  },
  {
   "cell_type": "markdown",
   "metadata": {},
   "source": [
    "### RESULTS : Data doesn't have suspicious data points, which means that the Age 0 patients infact are infants , not missing data"
   ]
  },
  {
   "cell_type": "code",
   "execution_count": 63,
   "metadata": {},
   "outputs": [
    {
     "data": {
      "text/plain": [
       "<matplotlib.axes._subplots.AxesSubplot at 0x1b834d58f98>"
      ]
     },
     "execution_count": 63,
     "metadata": {},
     "output_type": "execute_result"
    },
    {
     "data": {
      "image/png": "[encoded data removed]",
      "text/plain": [
       "<matplotlib.figure.Figure at 0x1b833432a20>"
      ]
     },
     "metadata": {},
     "output_type": "display_data"
    }
   ],
   "source": [
    "sns.countplot(x='Sms_Reminder', data=df, hue='Adherence')\n",
    "#sns.countplot(x='Sms_Reminder', data=df[df['Sms_Reminder']==2], hue='Adherence')"
   ]
  },
  {
   "cell_type": "code",
   "execution_count": 17,
   "metadata": {},
   "outputs": [
    {
     "data": {
      "text/plain": [
       "<seaborn.axisgrid.FacetGrid at 0x1b82dadab38>"
      ]
     },
     "execution_count": 17,
     "metadata": {},
     "output_type": "execute_result"
    },
    {
     "data": {
      "image/png": "[encoded data removed]",
      "text/plain": [
       "<matplotlib.figure.Figure at 0x1b824c82f28>"
      ]
     },
     "metadata": {},
     "output_type": "display_data"
    }
   ],
   "source": [
    "sns.lmplot(y=\"Adherence\", x = 'Prescription_period',data=df )\n",
    "# There is a stronger trend of non Adherence due to higher Prescription period"
   ]
  },
  {
   "cell_type": "code",
   "execution_count": 40,
   "metadata": {},
   "outputs": [
    {
     "data": {
      "text/plain": [
       "<matplotlib.axes._subplots.AxesSubplot at 0x1b82f6dd208>"
      ]
     },
     "execution_count": 40,
     "metadata": {},
     "output_type": "execute_result"
    },
    {
     "data": {
      "image/png": "[encoded data removed]",
      "text/plain": [
       "<matplotlib.figure.Figure at 0x1b82edeeb70>"
      ]
     },
     "metadata": {},
     "output_type": "display_data"
    }
   ],
   "source": [
    "sns.distplot(df[\"Prescription_period\"])\n",
    "#sns.countplot(x=\"Prescription_period\", data=df, hue = \"Adherence\")"
   ]
  },
  {
   "cell_type": "markdown",
   "metadata": {},
   "source": [
    "### Most of the prescriptions are of lesser number of days, which would be natural\n",
    "## We could strategize about log transformation of Age and Prescription period as they aren't normally distributed"
   ]
  },
  {
   "cell_type": "markdown",
   "metadata": {},
   "source": [
    "## Other features do not show much effect on Adherence (below) but we would like to have it in the dataframe regardless of that"
   ]
  },
  {
   "cell_type": "code",
   "execution_count": 45,
   "metadata": {},
   "outputs": [
    {
     "data": {
      "text/plain": [
       "<seaborn.axisgrid.FacetGrid at 0x1b82fde99e8>"
      ]
     },
     "execution_count": 45,
     "metadata": {},
     "output_type": "execute_result"
    },
    {
     "data": {
      "image/png": "[encoded data removed]",
      "text/plain": [
       "<matplotlib.figure.Figure at 0x1b82fdfd400>"
      ]
     },
     "metadata": {},
     "output_type": "display_data"
    }
   ],
   "source": [
    "sns.lmplot(y=\"Adherence\", x = 'Diabetes',data=df )"
   ]
  },
  {
   "cell_type": "code",
   "execution_count": 46,
   "metadata": {},
   "outputs": [
    {
     "data": {
      "text/plain": [
       "<seaborn.axisgrid.FacetGrid at 0x1b8350a2710>"
      ]
     },
     "execution_count": 46,
     "metadata": {},
     "output_type": "execute_result"
    },
    {
     "data": {
      "image/png": "[encoded data removed]",
      "text/plain": [
       "<matplotlib.figure.Figure at 0x1b82ecb5a20>"
      ]
     },
     "metadata": {},
     "output_type": "display_data"
    }
   ],
   "source": [
    "sns.lmplot(y=\"Adherence\", x = 'Alcoholism',data=df )"
   ]
  },
  {
   "cell_type": "code",
   "execution_count": 47,
   "metadata": {},
   "outputs": [
    {
     "data": {
      "text/plain": [
       "<seaborn.axisgrid.FacetGrid at 0x1b82fcb49e8>"
      ]
     },
     "execution_count": 47,
     "metadata": {},
     "output_type": "execute_result"
    },
    {
     "data": {
      "image/png": "[encoded data removed]",
      "text/plain": [
       "<matplotlib.figure.Figure at 0x1b82edeea20>"
      ]
     },
     "metadata": {},
     "output_type": "display_data"
    }
   ],
   "source": [
    "sns.lmplot(y=\"Adherence\", x = 'HyperTension',data=df )"
   ]
  },
  {
   "cell_type": "code",
   "execution_count": 48,
   "metadata": {},
   "outputs": [
    {
     "data": {
      "text/plain": [
       "<seaborn.axisgrid.FacetGrid at 0x1b835572438>"
      ]
     },
     "execution_count": 48,
     "metadata": {},
     "output_type": "execute_result"
    },
    {
     "data": {
      "image/png": "[encoded data removed]",
      "text/plain": [
       "<matplotlib.figure.Figure at 0x1b835572898>"
      ]
     },
     "metadata": {},
     "output_type": "display_data"
    }
   ],
   "source": [
    "sns.lmplot(y=\"Adherence\", x = 'Smokes',data=df )"
   ]
  },
  {
   "cell_type": "code",
   "execution_count": 49,
   "metadata": {},
   "outputs": [
    {
     "data": {
      "text/plain": [
       "<seaborn.axisgrid.FacetGrid at 0x1b831bc3710>"
      ]
     },
     "execution_count": 49,
     "metadata": {},
     "output_type": "execute_result"
    },
    {
     "data": {
      "image/png": "[encoded data removed]",
      "text/plain": [
       "<matplotlib.figure.Figure at 0x1b82fdf0b70>"
      ]
     },
     "metadata": {},
     "output_type": "display_data"
    }
   ],
   "source": [
    "sns.lmplot(y=\"Adherence\", x = 'Tuberculosis',data=df )"
   ]
  },
  {
   "cell_type": "markdown",
   "metadata": {},
   "source": [
    "### Looking at correlation of features\n",
    "### It is ok to have correlated features as our interntion is prediction \n",
    "#### Note : in case there is a need to analyze which features contribute more towards Adherence, we would like to have a look at this plot closely and plan to reduce features using PCA"
   ]
  },
  {
   "cell_type": "code",
   "execution_count": 23,
   "metadata": {},
   "outputs": [
    {
     "data": {
      "text/plain": [
       "<matplotlib.axes._subplots.AxesSubplot at 0x2118148d128>"
      ]
     },
     "execution_count": 23,
     "metadata": {},
     "output_type": "execute_result"
    },
    {
     "data": {
      "image/png": "[encoded data removed]",
      "text/plain": [
       "<matplotlib.figure.Figure at 0x21181cfd358>"
      ]
     },
     "metadata": {},
     "output_type": "display_data"
    }
   ],
   "source": [
    "corr = df.corr()\n",
    "sns.heatmap(corr, xticklabels=corr.columns.values, yticklabels=corr.columns.values)\n",
    "\n",
    "# Use below code if dataset is huge as it could be more efficient\n",
    "# plt.matshow(df.corr())"
   ]
  },
  {
   "cell_type": "markdown",
   "metadata": {},
   "source": [
    "## We see that the classes are unbalanced, i.e. we have more cases of No adherence.\n",
    "### The classes are inbalanced but they aren't severely imbalanced so we should be good"
   ]
  },
  {
   "cell_type": "code",
   "execution_count": 19,
   "metadata": {},
   "outputs": [
    {
     "data": {
      "text/plain": [
       "<matplotlib.axes._subplots.AxesSubplot at 0x1b82fb97c18>"
      ]
     },
     "execution_count": 19,
     "metadata": {},
     "output_type": "execute_result"
    },
    {
     "data": {
      "image/png": "[encoded data removed]",
      "text/plain": [
       "<matplotlib.figure.Figure at 0x1b82de0b2b0>"
      ]
     },
     "metadata": {},
     "output_type": "display_data"
    }
   ],
   "source": [
    "#sns.jointplot(\"Age\", \"Adherence\", data=df, kind=\"reg\", xlim=(0, 60), ylim=(0, 12), color=\"r\", size=7)\n",
    "#sns.pairplot(df, hue='Adherence', size=2.5)\n",
    "#plt.subplots(figsize=(20,15))\n",
    "#sns.countplot(y=\"Age\", data=df, hue = \"Adherence\", order = df['Age'])\n",
    "\n",
    "sns.countplot(x=\"Adherence\", data=df)"
   ]
  },
  {
   "cell_type": "markdown",
   "metadata": {},
   "source": [
    "## Splitting Data into Train and test sets"
   ]
  },
  {
   "cell_type": "code",
   "execution_count": 71,
   "metadata": {},
   "outputs": [],
   "source": [
    "X = df.iloc[:, 0:9].values\n",
    "y = df.iloc[:, -1].values"
   ]
  },
  {
   "cell_type": "code",
   "execution_count": 75,
   "metadata": {},
   "outputs": [
    {
     "data": {
      "text/plain": [
       "array([[24,  0, 59,  0,  0,  0,  0,  0,  0],\n",
       "       [ 4,  0, 43,  0,  0,  0,  0,  0,  0],\n",
       "       [38,  1, 66,  0,  0,  0,  0,  0,  1]], dtype=int64)"
      ]
     },
     "execution_count": 75,
     "metadata": {},
     "output_type": "execute_result"
    }
   ],
   "source": [
    "# Checking if data was split correctly\n",
    "X[1:4]"
   ]
  },
  {
   "cell_type": "code",
   "execution_count": 76,
   "metadata": {
    "collapsed": true
   },
   "outputs": [],
   "source": [
    "# Splitting the dataset into the Training set and Test set\n",
    "from sklearn.cross_validation import train_test_split\n",
    "X_train, X_test, y_train, y_test = train_test_split(X, y, test_size = 0.3, random_state = 0)"
   ]
  },
  {
   "cell_type": "markdown",
   "metadata": {},
   "source": [
    "## Feature scaling"
   ]
  },
  {
   "cell_type": "code",
   "execution_count": null,
   "metadata": {
    "collapsed": true
   },
   "outputs": [],
   "source": [
    "from sklearn.preprocessing import StandardScaler\n",
    "sc_X = StandardScaler()\n",
    "X_train = sc_X.fit_transform(X_train)\n",
    "X_test = sc_X.transform(X_test)"
   ]
  },
  {
   "cell_type": "code",
   "execution_count": 79,
   "metadata": {
    "collapsed": true
   },
   "outputs": [],
   "source": [
    "# One hot encoding of SMS Reminder as it has 3 values\n",
    "cat_vars=['Sms_Reminder']\n",
    "for var in cat_vars:\n",
    "    cat_list='var'+'_'+var\n",
    "    cat_list = pd.get_dummies(df[var], prefix=var)\n",
    "    data1=df.join(cat_list)\n",
    "    df=data1\n",
    "cat_vars=['Sms_Reminder']\n",
    "data_vars=df.columns.values.tolist()\n",
    "to_keep=[i for i in data_vars if i not in cat_vars]\n",
    "\n",
    "data_final=df[to_keep]\n",
    "\n",
    "#print(data_final.columns.values)"
   ]
  },
  {
   "cell_type": "markdown",
   "metadata": {},
   "source": [
    "## Recursive feature elimination to see if any features can be eliminated at this stage"
   ]
  },
  {
   "cell_type": "code",
   "execution_count": 81,
   "metadata": {},
   "outputs": [
    {
     "name": "stdout",
     "output_type": "stream",
     "text": [
      "Optimization terminated successfully.\n",
      "         Current function value: 0.364911\n",
      "         Iterations 7\n",
      "                           Logit Regression Results                           \n",
      "==============================================================================\n",
      "Dep. Variable:              Adherence   No. Observations:               180212\n",
      "Model:                          Logit   Df Residuals:                   180201\n",
      "Method:                           MLE   Df Model:                           10\n",
      "Date:                Tue, 27 Mar 2018   Pseudo R-squ.:                  0.4041\n",
      "Time:                        14:45:14   Log-Likelihood:                -65761.\n",
      "converged:                       True   LL-Null:                   -1.1036e+05\n",
      "                                        LLR p-value:                     0.000\n",
      "=======================================================================================\n",
      "                          coef    std err          z      P>|z|      [0.025      0.975]\n",
      "---------------------------------------------------------------------------------------\n",
      "Age                    -0.0089      0.000    -24.786      0.000      -0.010      -0.008\n",
      "Gender_M               -0.0153      0.015     -1.041      0.298      -0.044       0.014\n",
      "Prescription_period    -0.0674      0.000   -196.573      0.000      -0.068      -0.067\n",
      "Diabetes                0.0098      0.029      0.336      0.737      -0.047       0.067\n",
      "Alcoholism              0.3200      0.047      6.818      0.000       0.228       0.412\n",
      "HyperTension           -0.1033      0.021     -4.911      0.000      -0.144      -0.062\n",
      "Smokes                  0.2112      0.033      6.433      0.000       0.147       0.276\n",
      "Tuberculosis            0.0710      0.369      0.192      0.847      -0.652       0.794\n",
      "Sms_Reminder_0          2.2193      0.020    109.842      0.000       2.180       2.259\n",
      "Sms_Reminder_1          2.1913      0.019    115.439      0.000       2.154       2.229\n",
      "Sms_Reminder_2          2.2493      0.131     17.176      0.000       1.993       2.506\n",
      "=======================================================================================\n"
     ]
    }
   ],
   "source": [
    "from sklearn import datasets\n",
    "from sklearn.feature_selection import RFE\n",
    "\n",
    "data_final_vars=data_final.columns.values.tolist()\n",
    "y=['Adherence']\n",
    "X=[i for i in data_final_vars if i not in y]\n",
    "\n",
    "logreg = LogisticRegression()\n",
    "rfe = RFE(logreg, 18)\n",
    "rfe = rfe.fit(data_final[X], data_final[y].values.ravel())\n",
    "#print(rfe.support_)\n",
    "#print(rfe.ranking_)\n",
    "# NOTE: All features need to be selected for the model\n",
    "\n",
    "X=data_final[X]\n",
    "y=data_final[y]\n",
    "\n",
    "import statsmodels.api as sm\n",
    "from scipy import stats\n",
    "stats.chisqprob = lambda chisq, df: stats.chi2.sf(chisq, df)\n",
    "\n",
    "logit_model=sm.Logit(y.astype(float),X.astype(float))\n",
    "result=logit_model.fit()\n",
    "print(result.summary())"
   ]
  },
  {
   "cell_type": "code",
   "execution_count": 85,
   "metadata": {},
   "outputs": [
    {
     "name": "stdout",
     "output_type": "stream",
     "text": [
      "Accuracy of logistic regression classifier on test set: 0.88\n"
     ]
    }
   ],
   "source": [
    "#X_train, X_test, y_train, y_test = train_test_split(X, y, test_size=0.3, random_state=0) # done\n",
    "from sklearn.linear_model import LogisticRegression\n",
    "from sklearn import metrics\n",
    "logreg = LogisticRegression()\n",
    "logreg.fit(X_train, y_train.ravel())\n",
    "\n",
    "y_pred = logreg.predict(X_test)\n",
    "y_prob = logreg.predict_proba(X_test)\n",
    "print('Accuracy of logistic regression classifier on test set: {:.2f}'.format(logreg.score(X_test, y_test)))"
   ]
  },
  {
   "cell_type": "markdown",
   "metadata": {},
   "source": [
    "## Outputting predictions with prediction probabilities and confusion matrix onto into excel file"
   ]
  },
  {
   "cell_type": "code",
   "execution_count": null,
   "metadata": {
    "collapsed": true
   },
   "outputs": [],
   "source": [
    "#Predicting for all data points\n",
    "totpred = logreg.predict(X)\n",
    "totprob = logreg.predict_proba(X)\n",
    "\n",
    "#fin_prob=[]\n",
    "for i in totprob:\n",
    "    addmax = max(i)\n",
    "    fin_prob.append(addmax)\n",
    "\n",
    "res=list(zip(patid,totpred,fin_prob))\n",
    "\n",
    "#Results innto cvs file\n",
    "with open('Result.csv', 'w',newline='') as outfile:\n",
    "    mywriter = csv.writer(outfile)\n",
    "    \n",
    "    mywriter.writerow(['Patient_id','Adherence','Probability_score'])\n",
    "    for d in res:\n",
    "        mywriter.writerow(d)\n",
    "\n",
    "#Confusion matrix and precision & recall\n",
    "from sklearn.metrics import confusion_matrix\n",
    "#confusion_matrix = confusion_matrix(y_test, y_pred)\n",
    "print('\\n\\nConfusion matrix')\n",
    "#print(confusion_matrix)\n",
    "\n",
    "# classification report\n",
    "from sklearn.metrics import classification_report\n",
    "print('\\n\\nClassification report (0 is NO and 1 is YES)')\n",
    "print(classification_report(y_test, y_pred))\n",
    "\n",
    "\n",
    "# roc curve\n",
    "from sklearn.metrics import roc_auc_score\n",
    "from sklearn.metrics import roc_curve\n",
    "logit_roc_auc = roc_auc_score(y_test,\n",
    "logreg.predict(X_test))\n",
    "fpr, tpr, thresholds = roc_curve(y_test,\n",
    "logreg.predict_proba(X_test)[:,1])\n",
    "plt.figure()\n",
    "plt.plot(fpr, tpr, label='Logistic Regression (area =%0.2f)' % logit_roc_auc)\n",
    "plt.plot([0, 1], [0, 1],'r--')\n",
    "plt.xlim([0.0, 1.0])\n",
    "plt.ylim([0.0, 1.05])\n",
    "plt.xlabel('False Positive Rate')\n",
    "plt.ylabel('True Positive Rate')\n",
    "plt.title('Receiver operating characteristic')\n",
    "plt.legend(loc=\"lower right\")\n",
    "plt.savefig('Log_ROC')\n",
    "plt.show()\n",
    "\n",
    "#DECISION TREE\n",
    "dtc = DecisionTreeClassifier()\n",
    "dtc.fit(X_train, y_train.values.ravel())\n",
    "\n",
    "y_pred2 = dtc.predict(X)\n",
    "y_prob2 = dtc.predict_proba(X)\n",
    "print(y_prob2[:20])\n",
    "from sklearn.metrics import accuracy_score\n",
    "print('Accuracy of decision tree classifier on test set: {:.2f}'.format(accuracy_score(y, y_pred2)))\n",
    "confusion_matrix = confusion_matrix(y, y_pred2)\n",
    "print('\\n\\nConfusion matrix')\n",
    "print(confusion_matrix)\n",
    "\n",
    "\n",
    "#Writing confusion matrix and metics on Excel file too\n",
    "import xlwt\n",
    "# Initialize a workbook \n",
    "book = xlwt.Workbook(encoding=\"utf-8\")\n",
    "aa = float(confusion_matrix[0,0])\n",
    "ab = float(confusion_matrix[0,1])\n",
    "ba = float(confusion_matrix[1,0])\n",
    "bb = float(confusion_matrix[1,1])\n",
    "\n",
    "# Add a sheet to the workbook \n",
    "sheet = book.add_sheet(\"Confusion matrix\")\n",
    "sheet.write(0, 0, 'Confusion matrix')\n",
    "sheet.write(1, 2, 'Actual Yes')\n",
    "sheet.write(1, 3, 'Actual No')\n",
    "sheet.write(2, 1, 'Predicted Yes')\n",
    "sheet.write(3, 1, 'Predicted No')\n",
    "sheet.write(2, 2, aa)\n",
    "sheet.write(2, 3, ab)\n",
    "sheet.write(3, 2, ba)\n",
    "sheet.write(3, 3, bb)\n",
    "sheet.write(6, 1, 'Precision for Yes')\n",
    "sheet.write(6, 2, 100*aa/(aa+ab))\n",
    "sheet.write(7, 1, 'Recall for Yes')\n",
    "sheet.write(7, 2, 100*aa/(aa+ba))\n",
    "sheet.write(8, 1, 'Precision for No')\n",
    "sheet.write(8, 2, 100*bb/(bb+ba))\n",
    "sheet.write(9, 1, 'Recall for No')\n",
    "sheet.write(9, 2, 100*bb/(bb+ab))\n",
    "        \n",
    "# Save the workbook\n",
    "book.save(\"C:\\\\Abzooba\\\\Confusion Matrix and Metrics.xls\")"
   ]
  },
  {
   "cell_type": "code",
   "execution_count": null,
   "metadata": {
    "collapsed": true
   },
   "outputs": [],
   "source": []
  },
  {
   "cell_type": "code",
   "execution_count": null,
   "metadata": {
    "collapsed": true
   },
   "outputs": [],
   "source": []
  }
 ],
 "metadata": {
  "kernelspec": {
   "display_name": "Python 3",
   "language": "python",
   "name": "python3"
  },
  "language_info": {
   "codemirror_mode": {
    "name": "ipython",
    "version": 3
   },
   "file_extension": ".py",
   "mimetype": "text/x-python",
   "name": "python",
   "nbconvert_exporter": "python",
   "pygments_lexer": "ipython3",
   "version": "3.6.4"
  }
 },
 "nbformat": 4,
 "nbformat_minor": 2
}
